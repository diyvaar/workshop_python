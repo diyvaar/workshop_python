{
 "cells": [
  {
   "cell_type": "code",
   "execution_count": null,
   "id": "ca7f6c8c",
   "metadata": {},
   "outputs": [],
   "source": [
    "conda create --name snakes python=3.9"
   ]
  },
  {
   "cell_type": "code",
   "execution_count": null,
   "id": "2ba59eba",
   "metadata": {},
   "outputs": [],
   "source": [
    "conda activate snakes"
   ]
  },
  {
   "cell_type": "code",
   "execution_count": null,
   "id": "c28c5a50",
   "metadata": {},
   "outputs": [],
   "source": [
    "conda info --envs"
   ]
  },
  {
   "cell_type": "code",
   "execution_count": null,
   "id": "562b5779",
   "metadata": {},
   "outputs": [],
   "source": [
    "python --version"
   ]
  },
  {
   "cell_type": "code",
   "execution_count": null,
   "id": "c710b56e",
   "metadata": {},
   "outputs": [],
   "source": [
    "conda activate"
   ]
  },
  {
   "cell_type": "code",
   "execution_count": null,
   "id": "6ee82fdc",
   "metadata": {},
   "outputs": [],
   "source": [
    "conda search beautifulsoup4"
   ]
  },
  {
   "cell_type": "code",
   "execution_count": null,
   "id": "2df716e8",
   "metadata": {},
   "outputs": [],
   "source": [
    "conda install beautifulsoup4"
   ]
  },
  {
   "cell_type": "code",
   "execution_count": null,
   "id": "9ee77b4d",
   "metadata": {},
   "outputs": [],
   "source": [
    "conda list"
   ]
  }
 ],
 "metadata": {
  "kernelspec": {
   "display_name": "Python 3 (ipykernel)",
   "language": "python",
   "name": "python3"
  },
  "language_info": {
   "codemirror_mode": {
    "name": "ipython",
    "version": 3
   },
   "file_extension": ".py",
   "mimetype": "text/x-python",
   "name": "python",
   "nbconvert_exporter": "python",
   "pygments_lexer": "ipython3",
   "version": "3.10.9"
  }
 },
 "nbformat": 4,
 "nbformat_minor": 5
}
